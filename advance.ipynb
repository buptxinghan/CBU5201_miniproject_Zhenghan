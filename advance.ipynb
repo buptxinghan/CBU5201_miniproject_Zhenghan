{
 "cells": [
  {
   "cell_type": "markdown",
   "metadata": {},
   "source": [
    "# 1 Author\n",
    "\n"
   ]
  },
  {
   "cell_type": "markdown",
   "metadata": {},
   "source": [
    "# 2 Problem formulation\n",
    "\n",
    "- 描述：本项目旨在探索无监督学习方法，特别是 K-means 聚类，来分析和理解 genki4k 数据集中的人脸图片。我们的目标是通过提取深度特征，识别可能存在的模式或类别，并探索这些类别可能代表的含义（例如不同的表情或特征）。\n",
    "\n",
    "- 兴趣点：这个问题的有趣之处在于，它允许我们深入理解数据集中潜在的、未标记的特征，从而可能揭示出我们之前没有意识到的模式。"
   ]
  },
  {
   "cell_type": "markdown",
   "metadata": {},
   "source": [
    "# 3 Machine Learning pipeline\n",
    "- 输入：genki4k 数据集中的人脸图片。\n",
    "- 转换：使用预训练的 ResNet50 模型提取特征。\n",
    "- 模型：应用 K-means 聚类算法对特征进行聚类。\n",
    "- 输出：聚类标签和聚类的可视化。\n",
    "- 数据流：从原始图片到特征提取，再到聚类和结果可视化。"
   ]
  },
  {
   "cell_type": "markdown",
   "metadata": {},
   "source": [
    "# 4 Transformation stage\n",
    "\n",
    "- 转换描述：使用预训练的 ResNet50 模型进行特征提取，这能够捕捉到图片中的深度特征，这些特征对于聚类分析来说至关重要。\n",
    "\n",
    "- 输入与输出：输入为原始图片，输出为深度特征向量。\n",
    "\n",
    "- 选择原因：预训练的 CNN 模型能够有效提取复杂图像中的关键特征，这对于后续的聚类分析是必需的。"
   ]
  },
  {
   "cell_type": "markdown",
   "metadata": {},
   "source": [
    "# 5 Modelling\n",
    "\n",
    "选择适合新问题的模型。"
   ]
  }
 ],
 "metadata": {
  "language_info": {
   "name": "python"
  }
 },
 "nbformat": 4,
 "nbformat_minor": 2
}
